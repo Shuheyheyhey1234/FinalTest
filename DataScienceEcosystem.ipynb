{
 "cells": [
  {
   "cell_type": "markdown",
   "id": "38aaaf57-b952-45e3-a9d0-6d64d942369e",
   "metadata": {
    "tags": []
   },
   "source": [
    "<h1>Data Science Tools and Ecosystem</h1>"
   ]
  },
  {
   "cell_type": "markdown",
   "id": "e3d87a83-9aed-411f-9ea6-4aae3637fc9d",
   "metadata": {},
   "source": [
    "In this notebook, Data Science Tools and Ecosystem are summarized"
   ]
  },
  {
   "cell_type": "markdown",
   "id": "0d85d2ac-b8e9-4635-b886-c79faa765ba6",
   "metadata": {},
   "source": [
    "Some of the popular languages that Data Scientists use are:"
   ]
  },
  {
   "cell_type": "markdown",
   "id": "fb279c4c-67a4-4783-bc88-5ba74d587d22",
   "metadata": {},
   "source": [
    "ordered list"
   ]
  },
  {
   "cell_type": "markdown",
   "id": "5dc9139b-7813-405c-baec-bfe3bf5144b0",
   "metadata": {},
   "source": [
    "1, Python"
   ]
  },
  {
   "cell_type": "markdown",
   "id": "01fadf09-0f41-4d7a-b1ad-8ed5a956b2d2",
   "metadata": {},
   "source": [
    "2, R"
   ]
  },
  {
   "cell_type": "markdown",
   "id": "48f4ea46-286d-435c-b233-2535310aeaf2",
   "metadata": {},
   "source": [
    "3, SQL"
   ]
  },
  {
   "cell_type": "markdown",
   "id": "3d980cd3-aab3-4a99-85a3-52acd4d91396",
   "metadata": {},
   "source": [
    "4, Matlab"
   ]
  },
  {
   "cell_type": "markdown",
   "id": "318ad24b-2570-48e7-b8da-22cffa7c887e",
   "metadata": {},
   "source": [
    "Some of the commonly used libraries used by Data Scientists include:"
   ]
  },
  {
   "cell_type": "markdown",
   "id": "cd5b3195-2545-4ce7-a737-674de3cdb3d1",
   "metadata": {},
   "source": [
    "ordered list"
   ]
  },
  {
   "cell_type": "markdown",
   "id": "d92d32b7-72e1-4dde-9989-cd9d6db29349",
   "metadata": {},
   "source": [
    "1, Numpy"
   ]
  },
  {
   "cell_type": "markdown",
   "id": "410756ae-5858-4d2c-9e8e-5905591f3be2",
   "metadata": {},
   "source": [
    "2, Pandas"
   ]
  },
  {
   "cell_type": "markdown",
   "id": "aea7c756-2e43-4ba8-ac94-1cfc512bc810",
   "metadata": {},
   "source": [
    "3, Matplotlib"
   ]
  },
  {
   "cell_type": "markdown",
   "id": "3f7691bc-5383-4991-abe5-ff189a7b537c",
   "metadata": {},
   "source": [
    "4, Scikit-learn"
   ]
  },
  {
   "cell_type": "markdown",
   "id": "464356b9-934e-4a94-98b5-53bced7a0a37",
   "metadata": {
    "tags": []
   },
   "source": [
    "Data Science Tools"
   ]
  },
  {
   "cell_type": "markdown",
   "id": "002a40e3-195f-4ec3-a958-36265f66cd04",
   "metadata": {},
   "source": [
    "1, JupyterNotebook"
   ]
  },
  {
   "cell_type": "markdown",
   "id": "83ed05ee-7ad1-4855-83c4-8aa4ce1dcdd1",
   "metadata": {
    "tags": []
   },
   "source": [
    "2, VS Code"
   ]
  },
  {
   "cell_type": "markdown",
   "id": "a16bfea1-fb14-42a2-af77-cb54049e1802",
   "metadata": {
    "tags": []
   },
   "source": [
    "3, R Studio"
   ]
  },
  {
   "cell_type": "markdown",
   "id": "a2f70d96-3434-4e0b-87a9-0c07f8921321",
   "metadata": {},
   "source": [
    "<h3>Below are a few examples of evaluating arithmetic expressions in Python</h3>"
   ]
  },
  {
   "cell_type": "markdown",
   "id": "f22ce747-e4b2-41f9-8327-43489b8d4db6",
   "metadata": {},
   "source": [
    "1, Addition : 3 + 7"
   ]
  },
  {
   "cell_type": "markdown",
   "id": "90b11510-b481-454a-bad6-bae72e006a6d",
   "metadata": {},
   "source": [
    "2, Subtraction 7-3"
   ]
  },
  {
   "cell_type": "markdown",
   "id": "ba7c165c-5b30-4328-b9ff-1917e1669868",
   "metadata": {},
   "source": [
    "3, Multiplication 3*4"
   ]
  },
  {
   "cell_type": "markdown",
   "id": "639f9555-5595-4a22-9a89-ae368c13b2a6",
   "metadata": {},
   "source": [
    "4, Division 7/3"
   ]
  },
  {
   "cell_type": "code",
   "execution_count": 5,
   "id": "e148a6c1-c469-4474-86d5-af33794b95d7",
   "metadata": {
    "tags": []
   },
   "outputs": [],
   "source": [
    "#This a simple arithmetic expression to mutiply then add integers."
   ]
  },
  {
   "cell_type": "code",
   "execution_count": 11,
   "id": "98e2d170-84da-4e26-8216-1464db22295b",
   "metadata": {
    "tags": []
   },
   "outputs": [],
   "source": [
    "a = 3"
   ]
  },
  {
   "cell_type": "code",
   "execution_count": 12,
   "id": "32125f98-d5da-47c7-8b7d-382beca7b2db",
   "metadata": {
    "tags": []
   },
   "outputs": [],
   "source": [
    "b = 4"
   ]
  },
  {
   "cell_type": "code",
   "execution_count": 13,
   "id": "fa1bb9b6-0991-4bd8-85f6-17b88b028de5",
   "metadata": {
    "tags": []
   },
   "outputs": [],
   "source": [
    "c = 5"
   ]
  },
  {
   "cell_type": "code",
   "execution_count": 16,
   "id": "9dc9e2d2-27e1-4a5c-b678-d40ca2fe4bc5",
   "metadata": {
    "tags": []
   },
   "outputs": [
    {
     "data": {
      "text/plain": [
       "17"
      ]
     },
     "execution_count": 16,
     "metadata": {},
     "output_type": "execute_result"
    }
   ],
   "source": [
    "(a*b)+c"
   ]
  },
  {
   "cell_type": "code",
   "execution_count": 17,
   "id": "737c8c9b-538d-4b55-a99b-0c6e3526b4a3",
   "metadata": {
    "tags": []
   },
   "outputs": [],
   "source": [
    "#This will convert 200 minutes to hours by diving by 60"
   ]
  },
  {
   "cell_type": "code",
   "execution_count": 18,
   "id": "447f5a34-dc43-46cf-9b5e-20a7e2c49d0c",
   "metadata": {
    "tags": []
   },
   "outputs": [],
   "source": [
    "minutes = 200"
   ]
  },
  {
   "cell_type": "code",
   "execution_count": 19,
   "id": "2e49a0d4-f83f-4f90-9ed6-a08e43b5bf68",
   "metadata": {
    "tags": []
   },
   "outputs": [],
   "source": [
    "hours = minutes / 60"
   ]
  },
  {
   "cell_type": "code",
   "execution_count": 20,
   "id": "cf20e316-6cbf-4a50-b3e2-0a061adf5913",
   "metadata": {
    "tags": []
   },
   "outputs": [
    {
     "data": {
      "text/plain": [
       "3.3333333333333335"
      ]
     },
     "execution_count": 20,
     "metadata": {},
     "output_type": "execute_result"
    }
   ],
   "source": [
    "hours"
   ]
  },
  {
   "cell_type": "markdown",
   "id": "55c63150-02d4-432a-b15d-194a51fdfb9f",
   "metadata": {},
   "source": [
    "**Objectives:**"
   ]
  },
  {
   "cell_type": "markdown",
   "id": "484ec7d9-5667-4e42-9022-f9728f696ecd",
   "metadata": {},
   "source": [
    "・Learn how to use markdown"
   ]
  },
  {
   "cell_type": "markdown",
   "id": "e366a7aa-801d-4645-8fdb-37318d4ea7a0",
   "metadata": {},
   "source": [
    "・Learn how to use h1 tag and h3 tag"
   ]
  },
  {
   "cell_type": "markdown",
   "id": "296c5a61-c2b5-48a9-901d-a97f7e7e6e8c",
   "metadata": {
    "tags": []
   },
   "source": [
    "・Learn how to calculate numbers by maltiplation and addition"
   ]
  },
  {
   "cell_type": "markdown",
   "id": "a56a44da-5577-4166-adb2-62e8c6bb64a7",
   "metadata": {
    "tags": []
   },
   "source": [
    "・List popular languages for Data Science."
   ]
  },
  {
   "cell_type": "markdown",
   "id": "53d55b7b-16e9-4a23-838d-7e440daf13ec",
   "metadata": {},
   "source": [
    "<h2>Author</h2>"
   ]
  },
  {
   "cell_type": "markdown",
   "id": "008ddf98-497e-496f-86d1-981be2019a18",
   "metadata": {},
   "source": [
    "Shuhei Nakahara"
   ]
  },
  {
   "cell_type": "code",
   "execution_count": null,
   "id": "56bff3fc-a4cd-47c2-b046-889fd891211f",
   "metadata": {},
   "outputs": [],
   "source": []
  }
 ],
 "metadata": {
  "kernelspec": {
   "display_name": "Python",
   "language": "python",
   "name": "conda-env-python-py"
  },
  "language_info": {
   "codemirror_mode": {
    "name": "ipython",
    "version": 3
   },
   "file_extension": ".py",
   "mimetype": "text/x-python",
   "name": "python",
   "nbconvert_exporter": "python",
   "pygments_lexer": "ipython3",
   "version": "3.7.12"
  }
 },
 "nbformat": 4,
 "nbformat_minor": 5
}
